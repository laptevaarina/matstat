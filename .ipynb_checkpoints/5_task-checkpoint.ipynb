{
 "cells": [
  {
   "cell_type": "code",
   "execution_count": 11,
   "metadata": {},
   "outputs": [],
   "source": [
    "import numpy as np\n",
    "import matplotlib.pyplot as plt\n",
    "import statistics as stat\n",
    "import random\n",
    "from scipy import integrate"
   ]
  },
  {
   "cell_type": "markdown",
   "metadata": {},
   "source": [
    "## e"
   ]
  },
  {
   "cell_type": "code",
   "execution_count": 18,
   "metadata": {},
   "outputs": [],
   "source": [
    "theta = 5\n",
    "n = 100\n",
    "\n",
    "def create_sample(size, t):\n",
    "    return [(1-x)**(1/(1-t)) for x in np.random.uniform(0, 1, size)]\n",
    "\n",
    "sample = create_sample(n, theta)"
   ]
  },
  {
   "cell_type": "code",
   "execution_count": 19,
   "metadata": {},
   "outputs": [
    {
     "name": "stdout",
     "output_type": "stream",
     "text": [
      "ОМП параметра theta = 5.180460302912623\n"
     ]
    }
   ],
   "source": [
    "theta_est = n/np.sum(np.log(sample))+1\n",
    "print(f'ОМП параметра theta = {theta_est}')"
   ]
  },
  {
   "cell_type": "code",
   "execution_count": 20,
   "metadata": {},
   "outputs": [
    {
     "name": "stdout",
     "output_type": "stream",
     "text": [
      "Доверительный интервал для медианы: (1.142; 1.219)\n",
      "Реальное значение медианы: 1.202\n"
     ]
    }
   ],
   "source": [
    "a = 2**(1/(theta_est-1)) - (1.96*np.log(2)*2**(1/(theta_est-1))) / (n**0.5*(theta_est-1))\n",
    "b = 2**(1/(theta_est-1)) + (1.96*np.log(2)*2**(1/(theta_est-1))) / (n**0.5*(theta_est-1))\n",
    "print(f'Доверительный интервал для медианы: ({round(a, 3)}; {round(b, 3)})')\n",
    "print(f'Реальное значение медианы: {np.round(stat.median(sample), 3)}')"
   ]
  },
  {
   "cell_type": "code",
   "execution_count": 21,
   "metadata": {},
   "outputs": [
    {
     "name": "stdout",
     "output_type": "stream",
     "text": [
      "Асимптотический интервал для параметра theta: (4.361; 6.0)\n"
     ]
    }
   ],
   "source": [
    "omp_b =  (1.96*(theta_est-1)/n**0.5)+theta_est\n",
    "omp_a = - (1.96*(theta_est-1)/n**0.5)+theta_est\n",
    "print(f'Асимптотический интервал для параметра theta: ({round(omp_a, 3)}; {round(omp_b, 3)})')"
   ]
  },
  {
   "cell_type": "code",
   "execution_count": 22,
   "metadata": {},
   "outputs": [
    {
     "name": "stderr",
     "output_type": "stream",
     "text": [
      "C:\\Users\\Arina\\Anaconda3\\lib\\site-packages\\ipykernel_launcher.py:3: RuntimeWarning: overflow encountered in double_scalars\n",
      "  This is separate from the ipykernel package so we can avoid doing imports until\n"
     ]
    },
    {
     "name": "stdout",
     "output_type": "stream",
     "text": [
      "Баессовский доверительный интервал для theta: (4.302; 5.881)\n"
     ]
    }
   ],
   "source": [
    "prod = np.prod(sample)\n",
    "def func(x, n, prod):\n",
    "    return np.exp(1-x)*(x-1)**n/((prod)**x)\n",
    "\n",
    "res, err = integrate.quad(func, 1, 30, args=(n, prod))\n",
    "c = 1/res\n",
    "\n",
    "def func_corr(x, n, prod):\n",
    "    return np.exp(1-x)*(x-1)**n/((prod)**x)*c\n",
    "\n",
    "res = 0\n",
    "f1 = 1\n",
    "while res < 0.025:\n",
    "    f1 += 0.001\n",
    "    res, err = integrate.quad(func_corr, 1, f1, args=(n, prod))\n",
    "    \n",
    "f2 = f1\n",
    "while res < 0.975:\n",
    "    f2 += 0.001\n",
    "    res, err = integrate.quad(func_corr, 1, f2, args=(n, prod))\n",
    "\n",
    "print(f'Баессовский доверительный интервал для theta: ({round(f1, 3)}; {round(f2, 3)})')"
   ]
  },
  {
   "cell_type": "markdown",
   "metadata": {},
   "source": [
    "## f"
   ]
  },
  {
   "cell_type": "markdown",
   "metadata": {},
   "source": [
    "Параметрический"
   ]
  },
  {
   "cell_type": "code",
   "execution_count": 23,
   "metadata": {},
   "outputs": [
    {
     "name": "stdout",
     "output_type": "stream",
     "text": [
      "Бутстраповский (парамтерический) интервал для theta: (4.226; 5.89)\n"
     ]
    }
   ],
   "source": [
    "N_param = 50000\n",
    "theta_est = n/np.sum(np.log(sample))+1\n",
    "size = len(sample)\n",
    "\n",
    "p_deltas = []\n",
    "for i in range(N_param):\n",
    "    cur_sample = create_sample(size, theta_est)\n",
    "    cur_theta_est = n/np.sum(np.log(cur_sample))+1\n",
    "    p_deltas.append(cur_theta_est - theta_est)\n",
    "    \n",
    "p_deltas.sort()\n",
    "p_delta_025 = p_deltas[int(0.025*len(p_deltas))]\n",
    "p_delta_975 = p_deltas[int(0.975*len(p_deltas))]\n",
    "\n",
    "pbs_b = -1*(p_delta_025-theta_est)\n",
    "pbs_a = -1*(p_delta_975-theta_est)\n",
    "\n",
    "print(f'Бутстраповский (парамтерический) интервал для theta: ({round(pbs_a, 3)}; {round(pbs_b, 3)})')"
   ]
  },
  {
   "cell_type": "markdown",
   "metadata": {},
   "source": [
    "Непараметрический"
   ]
  },
  {
   "cell_type": "code",
   "execution_count": 24,
   "metadata": {},
   "outputs": [
    {
     "name": "stdout",
     "output_type": "stream",
     "text": [
      "Бутстраповский (непарамтерический) интервал для theta: (4.327; 5.825)\n"
     ]
    }
   ],
   "source": [
    "N_notparam = 1000\n",
    "\n",
    "sample_bs = sample.copy()\n",
    "sample_bs = np.repeat(sample_bs, 20)\n",
    "\n",
    "deltas = []\n",
    "for i in range(N_notparam):\n",
    "    random.shuffle(sample_bs)\n",
    "    cur_theta_est = n/np.sum(np.log(sample_bs[:size]))+1\n",
    "    deltas.append(cur_theta_est - theta_est)\n",
    "    \n",
    "deltas.sort()\n",
    "delta_025 = deltas[int(0.025*len(deltas))]\n",
    "delta_975 = deltas[int(0.975*len(deltas))]\n",
    "\n",
    "bs_b = -1*(delta_025-theta_est)\n",
    "bs_a = -1*(delta_975-theta_est)\n",
    "\n",
    "print(f'Бутстраповский (непарамтерический) интервал для theta: ({round(bs_a, 3)}; {round(bs_b, 3)})')"
   ]
  },
  {
   "cell_type": "markdown",
   "metadata": {},
   "source": [
    "## g"
   ]
  },
  {
   "cell_type": "code",
   "execution_count": 25,
   "metadata": {},
   "outputs": [
    {
     "data": {
      "text/plain": [
       "<matplotlib.legend.Legend at 0x1de70be5e48>"
      ]
     },
     "execution_count": 25,
     "metadata": {},
     "output_type": "execute_result"
    },
    {
     "data": {
      "image/png": "[encoded data removed]",
      "text/plain": [
       "<Figure size 720x360 with 1 Axes>"
      ]
     },
     "metadata": {
      "needs_background": "light"
     },
     "output_type": "display_data"
    }
   ],
   "source": [
    "plt.figure(figsize=(10, 5))\n",
    "plt.title(\"Сравнение интервалов\")\n",
    "plt.plot([bs_a, bs_b], [1,1], label = 'непараметрический бутстрап')\n",
    "plt.plot([pbs_a, pbs_b], [3,3], label = 'параметрический бутстрап')\n",
    "plt.plot([omp_a, omp_b], [2,2], label = 'ОМП')\n",
    "plt.plot([f1, f2], [0,0], label = 'баессовский')\n",
    "plt.plot([theta, theta], [0, 3], label = 'theta')\n",
    "plt.grid(True)\n",
    "plt.minorticks_on()\n",
    "plt.grid(which='minor')\n",
    "plt.legend()"
   ]
  },
  {
   "cell_type": "code",
   "execution_count": null,
   "metadata": {},
   "outputs": [],
   "source": []
  }
 ],
 "metadata": {
  "kernelspec": {
   "display_name": "Python 3",
   "language": "python",
   "name": "python3"
  },
  "language_info": {
   "codemirror_mode": {
    "name": "ipython",
    "version": 3
   },
   "file_extension": ".py",
   "mimetype": "text/x-python",
   "name": "python",
   "nbconvert_exporter": "python",
   "pygments_lexer": "ipython3",
   "version": "3.7.3"
  }
 },
 "nbformat": 4,
 "nbformat_minor": 2
}
