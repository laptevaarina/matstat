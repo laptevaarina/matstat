{
 "cells": [
  {
   "cell_type": "code",
   "execution_count": 46,
   "metadata": {},
   "outputs": [],
   "source": [
    "import numpy as np\n",
    "import matplotlib.pyplot as plt\n",
    "import pandas as pd\n",
    "from scipy.stats import t, f, norm\n",
    "\n",
    "from sklearn.linear_model import LinearRegression"
   ]
  },
  {
   "cell_type": "code",
   "execution_count": 47,
   "metadata": {},
   "outputs": [],
   "source": [
    "n = 50\n",
    "sample = np.zeros((n, 6))\n",
    "for i in range(n):\n",
    "    ksi = np.random.uniform(-1, 1, 5)\n",
    "    eta = np.random.normal(2+3*ksi[0]-2*ksi[1]+ksi[2]+ksi[3]-ksi[4], 1.5)\n",
    "    sample[i][:5] = ksi\n",
    "    sample[i][-1] = eta"
   ]
  },
  {
   "cell_type": "markdown",
   "metadata": {},
   "source": [
    "## а"
   ]
  },
  {
   "cell_type": "code",
   "execution_count": 48,
   "metadata": {},
   "outputs": [],
   "source": [
    "sample_df = pd.DataFrame(sample, columns = [0, 1, 2, 3, 4, 'eta'])\n",
    "columns = list(sample_df.columns)\n",
    "columns.remove('eta')"
   ]
  },
  {
   "cell_type": "code",
   "execution_count": 49,
   "metadata": {},
   "outputs": [],
   "source": [
    "for i in columns:\n",
    "    y_true =  sample_df.loc[ : ,i].copy()\n",
    "    y_train = sample_df.drop([i, 'eta'], axis = 1).copy()\n",
    "    \n",
    "    lr = LinearRegression()\n",
    "    lr.fit(y_train, y_true)\n",
    "    y_pred = lr.predict(y_train)\n",
    "    \n",
    "    TSS =  np.sum((y_true - np.mean(y_true))**2)\n",
    "    err = y_true - y_pred\n",
    "    RSS = err.T@err\n",
    "    \n",
    "    R2 = (TSS - RSS)/ TSS\n",
    "    if R2 >= 0.7:\n",
    "        sample_df = sample_df.drop([i], axis = 1)"
   ]
  },
  {
   "cell_type": "markdown",
   "metadata": {},
   "source": [
    "## b"
   ]
  },
  {
   "cell_type": "code",
   "execution_count": 50,
   "metadata": {},
   "outputs": [],
   "source": [
    "sample_df['c'] = 1\n",
    "sample_df = sample_df[['c', 0, 1, 2, 3, 4, 'eta']]"
   ]
  },
  {
   "cell_type": "code",
   "execution_count": 51,
   "metadata": {},
   "outputs": [
    {
     "name": "stdout",
     "output_type": "stream",
     "text": [
      "b0 = 1.9529675568991172 \n",
      "bi = [ 2.51050387 -2.30573623  0.74730195  0.28484131 -0.89984784]\n",
      "RSS = 16.55748\n"
     ]
    }
   ],
   "source": [
    "eta_true = sample_df.loc[ : ,'eta'].copy()\n",
    "    \n",
    "eta_train = np.ones((n,1))\n",
    "eta_train = np.hstack([eta_train, np.array(sample_df[[0,1,2,3,4]])])\n",
    "\n",
    "F = eta_train.T @ eta_train\n",
    "F_inv = np.linalg.inv(F)\n",
    "\n",
    "coef = F_inv @ eta_train.T @ eta_true\n",
    "\n",
    "eta_pred = eta_train @ coef\n",
    "eta_err = eta_true - eta_pred\n",
    "RSS_eta = eta_err.T @ eta_err\n",
    "TSS_eta = np.sum((eta_true - np.mean(eta_true))**2)\n",
    "\n",
    "deltas = [coef[i] * (n - len(coef))**0.5/(RSS_eta*F_inv[i][i])**0.5 for i in range(len(coef))]\n",
    "\n",
    "print(f'b0 = {coef[0]} \\nbi = {coef[1:]}\\nRSS = {np.round(RSS,5)}')"
   ]
  },
  {
   "cell_type": "code",
   "execution_count": 52,
   "metadata": {},
   "outputs": [
    {
     "name": "stdout",
     "output_type": "stream",
     "text": [
      "p_values = [0.      0.      0.      0.03129 0.38241 0.00462] => все коэффиценты значимы\n"
     ]
    }
   ],
   "source": [
    "p_value_b = [abs(2*(1 - t.cdf(abs(d),n - len(coef)))) for d in deltas]\n",
    "print(f'p_values = {np.round(p_value_b, 5)} => все коэффиценты значимы')"
   ]
  },
  {
   "cell_type": "markdown",
   "metadata": {},
   "source": [
    "## с"
   ]
  },
  {
   "cell_type": "code",
   "execution_count": 53,
   "metadata": {},
   "outputs": [
    {
     "name": "stdout",
     "output_type": "stream",
     "text": [
      "коэффициент детерминации 0.8109\n"
     ]
    }
   ],
   "source": [
    "R2_eta = (TSS_eta - RSS_eta)/TSS_eta\n",
    "print(f'коэффициент детерминации {np.round(R2_eta,4)}')"
   ]
  },
  {
   "cell_type": "code",
   "execution_count": 54,
   "metadata": {},
   "outputs": [
    {
     "name": "stdout",
     "output_type": "stream",
     "text": [
      "p_value = 3e-09 => отвергаем теорию о незначимости регрессии\n"
     ]
    }
   ],
   "source": [
    "delta_R2 = R2_eta**2 / (1-R2_eta**2) * (n - len(coef))/(len(coef)-1) \n",
    "p_value_R2 = abs((1 - f.cdf(abs(delta_R2),len(coef) -1 , n - len(coef)))) \n",
    "print(f'p_value = {np.round(p_value_R2,9)} => отвергаем теорию о незначимости регрессии')"
   ]
  },
  {
   "cell_type": "markdown",
   "metadata": {},
   "source": [
    "## d"
   ]
  },
  {
   "cell_type": "code",
   "execution_count": 55,
   "metadata": {},
   "outputs": [
    {
     "name": "stdout",
     "output_type": "stream",
     "text": [
      "Значение в xk = 0: 1.953\n"
     ]
    }
   ],
   "source": [
    "x_test = np.zeros_like(coef)\n",
    "x_test[0] = 1\n",
    "y_pred = x_test @ coef\n",
    "print(f'Значение в xk = 0: {np.round(y_pred,4)}')"
   ]
  },
  {
   "cell_type": "code",
   "execution_count": 56,
   "metadata": {},
   "outputs": [],
   "source": [
    "eps = 10e-6\n",
    "proc_val = 0\n",
    "for i in list(np.linspace(2, 10, 10**7)):\n",
    "    if abs(t.cdf(i, n -len(coef)) - 0.975)<eps:\n",
    "        proc_val = i\n",
    "        break\n",
    "\n",
    "tmp = (n - len(coef))**0.5/(RSS_eta*(1+x_test@F_inv@x_test.T))**0.5\n",
    "left = y_pred - proc_val/tmp\n",
    "right = y_pred + proc_val/tmp"
   ]
  },
  {
   "cell_type": "code",
   "execution_count": 57,
   "metadata": {},
   "outputs": [
    {
     "name": "stdout",
     "output_type": "stream",
     "text": [
      "Доверительный интервал: (-0.5459; 4.4518)\n"
     ]
    }
   ],
   "source": [
    "print(f'Доверительный интервал: ({np.round(left, 4)}; {np.round(right, 4)})')"
   ]
  },
  {
   "cell_type": "markdown",
   "metadata": {},
   "source": [
    "## e"
   ]
  },
  {
   "cell_type": "code",
   "execution_count": 58,
   "metadata": {},
   "outputs": [
    {
     "name": "stdout",
     "output_type": "stream",
     "text": [
      "p_value = 0.2186 => нет оснований отвергнуть гипотезу о независимости ошибок\n"
     ]
    },
    {
     "name": "stderr",
     "output_type": "stream",
     "text": [
      "C:\\Users\\Arina\\Anaconda3\\lib\\site-packages\\ipykernel_launcher.py:1: DeprecationWarning: Calling np.sum(generator) is deprecated, and in the future will give a different result. Use np.sum(np.fromiter(generator)) or the python sum builtin instead.\n",
      "  \"\"\"Entry point for launching an IPython kernel.\n"
     ]
    }
   ],
   "source": [
    "I = np.sum(np.sum(eta_err[i]<eta_err[:i]) for i in range(len(eta_err)))\n",
    "delta_I = (I - n*(n-1)/4)/((n**3)/36)**0.5\n",
    "p_val_I = 2*(1 - norm.cdf(delta_I))\n",
    "print(f'p_value = {np.round(p_val_I,4)} => нет оснований отвергнуть гипотезу о независимости ошибок')"
   ]
  },
  {
   "cell_type": "markdown",
   "metadata": {},
   "source": [
    "## f"
   ]
  },
  {
   "cell_type": "code",
   "execution_count": 59,
   "metadata": {},
   "outputs": [],
   "source": [
    "var_est = np.var(eta_err)\n",
    "mean_est = np.mean(eta_err)\n",
    "\n",
    "n_dots = 100\n",
    "points = np.linspace(np.min(eta_err), np.max(eta_err), n_dots)\n",
    "\n",
    "F_emp = [np.sum(eta_err<el)/n for el in np.sort(eta_err)]\n",
    "F_acc = [norm.cdf(i, mean_est, var_est) for i in np.sort(eta_err)]\n",
    "\n",
    "delta_acc = n**0.5*max(list(map(lambda x,y: abs(x-y), F_acc, F_emp)))"
   ]
  },
  {
   "cell_type": "code",
   "execution_count": 60,
   "metadata": {},
   "outputs": [
    {
     "data": {
      "text/plain": [
       "<matplotlib.legend.Legend at 0x27df35a74e0>"
      ]
     },
     "execution_count": 60,
     "metadata": {},
     "output_type": "execute_result"
    },
    {
     "data": {
      "image/png": "[encoded data removed]",
      "text/plain": [
       "<Figure size 720x360 with 1 Axes>"
      ]
     },
     "metadata": {
      "needs_background": "light"
     },
     "output_type": "display_data"
    }
   ],
   "source": [
    "plt.figure(figsize = (10, 5))\n",
    "plt.plot(points, norm.cdf(points, mean_est, var_est), label = \"Нормальное распредление\")\n",
    "plt.plot(np.sort(eta_err), F_emp, label = \"Распредление ошибки\")\n",
    "plt.xticks(np.linspace(min(eta_err), max(eta_err), 10))\n",
    "plt.grid(True)\n",
    "plt.minorticks_on()\n",
    "plt.grid(which='minor')\n",
    "plt.legend()"
   ]
  },
  {
   "cell_type": "code",
   "execution_count": 61,
   "metadata": {},
   "outputs": [
    {
     "name": "stdout",
     "output_type": "stream",
     "text": [
      "p_value = 0.97 => нет оснований отвергать H0\n"
     ]
    }
   ],
   "source": [
    "N = 50000\n",
    "\n",
    "deltas_kolm = []\n",
    "for i in range(N):\n",
    "    sample = np.random.normal(mean_est, var_est, n)\n",
    "    points = np.linspace(0, max(sample), 100)\n",
    "    f1 = [np.sum(sample<elem)/n for elem in points]\n",
    "    f2 = [np.sum(eta_err<elem)/n for elem in points]\n",
    "    tmp = n**0.5*max(list(map(lambda x,y: abs(x-y), f1, f2)))\n",
    "    deltas_kolm.append(tmp)\n",
    "    \n",
    "deltas_var = np.sort(deltas_kolm)\n",
    "k = len(deltas_var[deltas_var<delta_acc])\n",
    "p_value = 1-((k-1)/N)\n",
    "print(f\"p_value = {round(p_value, 2)} => нет оснований отвергать H0\")"
   ]
  },
  {
   "cell_type": "markdown",
   "metadata": {},
   "source": [
    "## g"
   ]
  },
  {
   "cell_type": "code",
   "execution_count": 62,
   "metadata": {},
   "outputs": [
    {
     "data": {
      "image/png": "[encoded data removed]",
      "text/plain": [
       "<Figure size 720x360 with 1 Axes>"
      ]
     },
     "metadata": {
      "needs_background": "light"
     },
     "output_type": "display_data"
    }
   ],
   "source": [
    "sigma_out = np.median(abs(eta_err))/0.675\n",
    "\n",
    "plt.figure(figsize = (10, 5))\n",
    "plt.scatter(np.arange(n), eta_err, color = 'k')\n",
    "plt.plot([0, 50], [-2*sigma_out, -2*sigma_out], color = 'r')\n",
    "plt.plot([0, 50], [2*sigma_out, 2*sigma_out], color = 'r')\n",
    "plt.grid(True)\n",
    "plt.minorticks_on()\n",
    "plt.grid(which='minor')"
   ]
  },
  {
   "cell_type": "code",
   "execution_count": 63,
   "metadata": {},
   "outputs": [
    {
     "name": "stdout",
     "output_type": "stream",
     "text": [
      "Новое количество факторов = 48\n"
     ]
    }
   ],
   "source": [
    "eta_true_no_out = eta_err[(eta_err<2*sigma_out) & (eta_err>-2*sigma_out)]\n",
    "to_drop = list(np.setdiff1d(eta_true.index, eta_true_no_out.index))\n",
    "print(f'Новое количество факторов = {len(eta_true_no_out)}')"
   ]
  },
  {
   "cell_type": "code",
   "execution_count": 64,
   "metadata": {},
   "outputs": [],
   "source": [
    "sample_df_no_out = sample_df.drop(to_drop, axis=0)"
   ]
  },
  {
   "cell_type": "code",
   "execution_count": 65,
   "metadata": {},
   "outputs": [
    {
     "name": "stdout",
     "output_type": "stream",
     "text": [
      "R2 с выбросамии: 0.81091\n",
      "R2 после удаления выбросов: 0.8365\n"
     ]
    }
   ],
   "source": [
    "n_eta_true = sample_df_no_out.loc[ : ,'eta'].copy()\n",
    "    \n",
    "n_eta_train = np.ones((len(sample_df_no_out),1))\n",
    "n_eta_train = np.hstack([n_eta_train, np.array(sample_df_no_out[[0,1,2,3,4]])])\n",
    "\n",
    "n_F = n_eta_train.T @ n_eta_train\n",
    "n_F_inv = np.linalg.inv(n_F)\n",
    "\n",
    "n_coef = F_inv @ n_eta_train.T @ n_eta_true\n",
    "\n",
    "n_eta_pred = n_eta_train @ n_coef\n",
    "n_eta_err = n_eta_true - n_eta_pred\n",
    "n_RSS_eta = n_eta_err.T @ n_eta_err\n",
    "n_TSS_eta = np.sum((n_eta_true - np.mean(n_eta_true))**2)\n",
    "\n",
    "n_R2_eta = (n_TSS_eta - n_RSS_eta)/n_TSS_eta\n",
    "print(f'R2 с выбросамии: {np.round(R2_eta, 5)}\\nR2 после удаления выбросов: {np.round(n_R2_eta, 5)}') "
   ]
  },
  {
   "cell_type": "markdown",
   "metadata": {},
   "source": [
    "## h"
   ]
  },
  {
   "cell_type": "code",
   "execution_count": 66,
   "metadata": {},
   "outputs": [
    {
     "name": "stdout",
     "output_type": "stream",
     "text": [
      "R2cv = 0.7538\n"
     ]
    }
   ],
   "source": [
    "cv = []\n",
    "\n",
    "for i in range(len(sample_df)):\n",
    "    x_train = sample_df.drop(i, axis = 0)\n",
    "    x_train = x_train.drop('eta', axis = 1)\n",
    "    \n",
    "    y_train = sample_df.drop(i, axis = 0)\n",
    "    y_train = y_train['eta']\n",
    "    \n",
    "    x_test = np.hstack(sample_df.iloc[i].drop('eta'))\n",
    "    y_test = sample_df.iloc[i]['eta']\n",
    "    \n",
    "    F = x_train.T @ x_train\n",
    "    F_inv = np.linalg.inv(F)\n",
    "\n",
    "    coef = F_inv @ x_train.T @ y_train\n",
    "\n",
    "    y_pred = x_test @ coef\n",
    "    err = y_test - y_pred\n",
    "    \n",
    "    cv.append(err**2)\n",
    "    \n",
    "R_cv = 1 - np.sum(cv)/TSS_eta\n",
    "print(f'R2cv = {np.round(R_cv,4)}')"
   ]
  },
  {
   "cell_type": "markdown",
   "metadata": {},
   "source": [
    "## i"
   ]
  },
  {
   "cell_type": "code",
   "execution_count": 67,
   "metadata": {},
   "outputs": [
    {
     "name": "stdout",
     "output_type": "stream",
     "text": [
      "p_value = 0.87317 => нет оснований отвергнуть гипотезу о равенстве дисперсий\n"
     ]
    }
   ],
   "source": [
    "ksi_5 = np.random.uniform(-1,1,5)\n",
    "eta_5 = np.random.normal(2+3*ksi_5[0]-2*ksi_5[1]+ksi_5[2]+ksi_5[3]-ksi_5[4], 1.5, 5)\n",
    "sigma_5 = (1/4)*np.sum((eta_5 - np.mean(eta_5))**2)\n",
    "delta_5 = RSS_eta/((n - len(coef))*sigma_5)\n",
    "p_value_5 = 1 - f.cdf(delta_5,  n - len(coef), 4)\n",
    "print(f'p_value = {np.round(p_value_5,5)} => нет оснований отвергнуть гипотезу о равенстве дисперсий')"
   ]
  },
  {
   "cell_type": "markdown",
   "metadata": {},
   "source": [
    "## j"
   ]
  },
  {
   "cell_type": "code",
   "execution_count": 68,
   "metadata": {},
   "outputs": [],
   "source": [
    "to_del = np.argmax(p_value_b)\n",
    "less_sample = sample_df.drop(to_del, axis = 1)"
   ]
  },
  {
   "cell_type": "code",
   "execution_count": 75,
   "metadata": {},
   "outputs": [
    {
     "name": "stdout",
     "output_type": "stream",
     "text": [
      "p_values = [0.      0.      0.      0.04305 0.54994] => отвергаем теорию о незначимости коэффициентов (кроме последнего случая)\n"
     ]
    }
   ],
   "source": [
    "less_y_train = less_sample.loc[ : ,'eta'].copy()\n",
    "    \n",
    "cols = list(less_sample.columns)\n",
    "cols.remove('eta')\n",
    "            \n",
    "less_x_train = np.array(sample_df[cols])\n",
    "\n",
    "less_F = less_x_train.T @ less_x_train\n",
    "less_F_inv = np.linalg.inv(less_F)\n",
    "\n",
    "less_coef = less_F_inv @ less_x_train.T @ less_y_train\n",
    "less_eta_pred = less_x_train @ less_coef\n",
    "\n",
    "less_eta_err = less_y_train - less_eta_pred\n",
    "less_RSS_eta = less_eta_err.T @ less_eta_err\n",
    "less_TSS_eta = np.sum((less_y_train - np.mean(less_y_train))**2)\n",
    "\n",
    "less_deltas = [less_coef[i] * (n - len(less_coef))**0.5/(less_RSS_eta*less_F_inv[i][i])**0.5 for i in range(len(less_coef))]\n",
    "less_p_value_b = [abs(2*(1 - t.cdf(abs(d),n - len(less_coef)))) for d in less_deltas]\n",
    "\n",
    "print(f'p_values = {np.round(less_p_value_b, 5)} => отвергаем теорию о незначимости коэффициентов (кроме последнего случая)')"
   ]
  },
  {
   "cell_type": "code",
   "execution_count": 72,
   "metadata": {},
   "outputs": [
    {
     "name": "stdout",
     "output_type": "stream",
     "text": [
      "Коэффициент детерминации 0.7726\n",
      "p_value = 1.9e-08 => отвергаем теорию о незначимости регрессии\n"
     ]
    }
   ],
   "source": [
    "less_R2_eta = (less_TSS_eta - less_RSS_eta)/less_TSS_eta\n",
    "print(f'Коэффициент детерминации {np.round(less_R2_eta,4)}')\n",
    "\n",
    "less_delta_R2 = less_R2_eta**2 / (1-less_R2_eta**2) * (n - len(less_coef))/(len(less_coef)-1) \n",
    "less_p_value_R2 = abs((1 - f.cdf(abs(less_delta_R2),len(less_coef) -1 , n - len(less_coef)))) \n",
    "print(f'p_value = {np.round(less_p_value_R2,9)} => отвергаем теорию о незначимости регрессии')"
   ]
  },
  {
   "cell_type": "code",
   "execution_count": 74,
   "metadata": {},
   "outputs": [
    {
     "data": {
      "text/html": [
       "<div>\n",
       "<style scoped>\n",
       "    .dataframe tbody tr th:only-of-type {\n",
       "        vertical-align: middle;\n",
       "    }\n",
       "\n",
       "    .dataframe tbody tr th {\n",
       "        vertical-align: top;\n",
       "    }\n",
       "\n",
       "    .dataframe thead th {\n",
       "        text-align: right;\n",
       "    }\n",
       "</style>\n",
       "<table border=\"1\" class=\"dataframe\">\n",
       "  <thead>\n",
       "    <tr style=\"text-align: right;\">\n",
       "      <th></th>\n",
       "      <th>R2</th>\n",
       "      <th>b0</th>\n",
       "      <th>b1</th>\n",
       "      <th>b2</th>\n",
       "      <th>b3</th>\n",
       "      <th>b4</th>\n",
       "      <th>b5</th>\n",
       "    </tr>\n",
       "  </thead>\n",
       "  <tbody>\n",
       "    <tr>\n",
       "      <th>first regression</th>\n",
       "      <td>0.810911</td>\n",
       "      <td>1.941302</td>\n",
       "      <td>2.529329</td>\n",
       "      <td>-2.316466</td>\n",
       "      <td>0.758755</td>\n",
       "      <td>0.30589</td>\n",
       "      <td>-0.901240</td>\n",
       "    </tr>\n",
       "    <tr>\n",
       "      <th>second regression</th>\n",
       "      <td>0.772633</td>\n",
       "      <td>1.906360</td>\n",
       "      <td>2.658879</td>\n",
       "      <td>-2.499956</td>\n",
       "      <td>0.758381</td>\n",
       "      <td>0.00000</td>\n",
       "      <td>0.210235</td>\n",
       "    </tr>\n",
       "  </tbody>\n",
       "</table>\n",
       "</div>"
      ],
      "text/plain": [
       "                         R2        b0        b1        b2        b3       b4  \\\n",
       "first regression   0.810911  1.941302  2.529329 -2.316466  0.758755  0.30589   \n",
       "second regression  0.772633  1.906360  2.658879 -2.499956  0.758381  0.00000   \n",
       "\n",
       "                         b5  \n",
       "first regression  -0.901240  \n",
       "second regression  0.210235  "
      ]
     },
     "execution_count": 74,
     "metadata": {},
     "output_type": "execute_result"
    }
   ],
   "source": [
    "comp = pd.DataFrame(columns = ['R2', 'b0', 'b1', 'b2', 'b3', 'b4', 'b5' ])\n",
    "comp.loc['first regression'] = [R2_eta,*coef]\n",
    "tmp = list(less_coef.copy())\n",
    "tmp.insert(to_del, 0)\n",
    "comp.loc['second regression'] = [less_R2_eta, *tmp]\n",
    "comp"
   ]
  },
  {
   "cell_type": "markdown",
   "metadata": {},
   "source": [
    "## k"
   ]
  },
  {
   "cell_type": "code",
   "execution_count": 76,
   "metadata": {},
   "outputs": [],
   "source": [
    "delta_boot = (less_RSS_eta - RSS_eta) / RSS_eta * (n - len(less_coef))/(len(less_coef) - len(coef))"
   ]
  },
  {
   "cell_type": "code",
   "execution_count": 77,
   "metadata": {},
   "outputs": [],
   "source": [
    "n_boot = 1000\n",
    "deltas_boot = []\n",
    "for i in range(n_boot):\n",
    "    h1_sample = sample_df.loc[np.random.randint(0,len(sample_df),len(sample_df))]\n",
    "    h0_sample = h1_sample.drop(to_del, axis = 1)\n",
    "    \n",
    "    h1_x = h1_sample.drop('eta', axis = 1)\n",
    "    h0_x = h0_sample.drop('eta', axis = 1)\n",
    "    \n",
    "    h1_y = h1_sample['eta']\n",
    "    h0_y = h0_sample['eta']\n",
    "    \n",
    "    h1_F = h1_x.T @ h1_x \n",
    "    h0_F = h0_x.T @ h0_x\n",
    "   \n",
    "    h1_F_inv = np.linalg.inv(h1_F) \n",
    "    h0_F_inv = np.linalg.inv(h0_F)\n",
    "   \n",
    "    h1_coef = h1_F_inv @ h1_x.T @ h1_y\n",
    "    h0_coef = h0_F_inv @ h0_x.T @ h0_y\n",
    "    \n",
    "    h1_pred = h1_x @ np.ravel(h1_coef)\n",
    "    h0_pred = h0_x @ np.ravel(h0_coef)\n",
    "    \n",
    "    h1_err = h1_y - h1_pred\n",
    "    h0_err = h0_y - h0_pred\n",
    "    \n",
    "    h1_RSS = h1_err.T @ h1_err\n",
    "    h0_RSS = h0_err.T @ h0_err\n",
    "\n",
    "    tmp = (h1_RSS - h0_RSS) / h0_RSS * (n - len(h1_coef))/(len(h1_coef) - len(h0_coef))\n",
    "    deltas_boot.append(tmp)"
   ]
  },
  {
   "cell_type": "code",
   "execution_count": 78,
   "metadata": {},
   "outputs": [
    {
     "name": "stdout",
     "output_type": "stream",
     "text": [
      "p_value = 0.64 => нет оснований отвергать H0\n"
     ]
    }
   ],
   "source": [
    "deltas_boot_var = np.sort(deltas_boot)\n",
    "k = len(deltas_boot_var[deltas_boot_var<delta_boot])\n",
    "p_value = 1-((k-1)/n_boot)\n",
    "print(f\"p_value = {round(p_value, 2)} => нет оснований отвергать H0\")"
   ]
  },
  {
   "cell_type": "code",
   "execution_count": null,
   "metadata": {},
   "outputs": [],
   "source": []
  }
 ],
 "metadata": {
  "kernelspec": {
   "display_name": "Python 3",
   "language": "python",
   "name": "python3"
  },
  "language_info": {
   "codemirror_mode": {
    "name": "ipython",
    "version": 3
   },
   "file_extension": ".py",
   "mimetype": "text/x-python",
   "name": "python",
   "nbconvert_exporter": "python",
   "pygments_lexer": "ipython3",
   "version": "3.7.3"
  }
 },
 "nbformat": 4,
 "nbformat_minor": 2
}
