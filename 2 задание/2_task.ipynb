{
 "cells": [
  {
   "cell_type": "code",
   "execution_count": 1,
   "metadata": {},
   "outputs": [
    {
     "name": "stderr",
     "output_type": "stream",
     "text": [
      "C:\\Users\\Arina\\Anaconda3\\lib\\site-packages\\pandas\\compat\\_optional.py:138: UserWarning: Pandas requires version '2.7.0' or newer of 'numexpr' (version '2.6.9' currently installed).\n",
      "  warnings.warn(msg, UserWarning)\n"
     ]
    }
   ],
   "source": [
    "import numpy as np\n",
    "import matplotlib.pyplot as plt\n",
    "import pandas as pd\n",
    "from scipy.stats import t, f, norm\n",
    "\n",
    "from sklearn.linear_model import LinearRegression"
   ]
  },
  {
   "cell_type": "markdown",
   "metadata": {},
   "source": [
    "## a"
   ]
  },
  {
   "cell_type": "code",
   "execution_count": 3,
   "metadata": {},
   "outputs": [
    {
     "name": "stdout",
     "output_type": "stream",
     "text": [
      "Коэффициенты \n",
      "0    84.000000\n",
      "1    85.500000\n",
      "2    87.818182\n",
      "3    90.000000\n",
      "4    91.000000\n",
      "dtype: float64\n"
     ]
    }
   ],
   "source": [
    "df = pd.DataFrame({\"ig\":[83,85,84,85,85,86,86,87,86,87,87,87,88,88,88,88,88,89,90,89,90,90,91,90,92],\n",
    "                   \"age\":[1,1,2,2,2,2,2,2,3,3,3,3,3,3,3,3,3,3,3,4,4,4,4,5,5]})\n",
    "df.head()\n",
    "\n",
    "x = pd.get_dummies(df['age'])\n",
    "y = df[\"ig\"]\n",
    "\n",
    "F = x.T @ x\n",
    "F_inv = np.linalg.inv(F)\n",
    "coef = F_inv @ x.T @ y\n",
    "\n",
    "print(f'Коэффициенты \\n{coef}')"
   ]
  },
  {
   "cell_type": "code",
   "execution_count": 4,
   "metadata": {},
   "outputs": [
    {
     "name": "stdout",
     "output_type": "stream",
     "text": [
      "p_value = 0.0002 => отвергаем гипотезу о незначимости регрессии \n"
     ]
    }
   ],
   "source": [
    "TSS = np.sum((y - y.mean())**2)\n",
    "err = y - x@np.ravel(coef)\n",
    "RSS = err.T @ err\n",
    "R2 = (TSS- RSS)/TSS\n",
    "N, p = x.shape\n",
    "delta = R2**2/(1-R2**2)*(N - p)/(p-1)\n",
    "p_val = 1 - f.cdf(delta, p-1, N-p)\n",
    "print(f'p_value = {np.round(p_val, 4)} => отвергаем гипотезу о незначимости регрессии ')"
   ]
  },
  {
   "cell_type": "markdown",
   "metadata": {},
   "source": [
    "## b"
   ]
  },
  {
   "cell_type": "code",
   "execution_count": null,
   "metadata": {},
   "outputs": [],
   "source": []
  }
 ],
 "metadata": {
  "kernelspec": {
   "display_name": "Python 3",
   "language": "python",
   "name": "python3"
  },
  "language_info": {
   "codemirror_mode": {
    "name": "ipython",
    "version": 3
   },
   "file_extension": ".py",
   "mimetype": "text/x-python",
   "name": "python",
   "nbconvert_exporter": "python",
   "pygments_lexer": "ipython3",
   "version": "3.7.3"
  }
 },
 "nbformat": 4,
 "nbformat_minor": 2
}
