{
 "cells": [
  {
   "cell_type": "code",
   "execution_count": 7,
   "metadata": {},
   "outputs": [],
   "source": [
    "import numpy as np\n",
    "from scipy import integrate\n",
    "import matplotlib.pyplot as plt"
   ]
  },
  {
   "cell_type": "markdown",
   "metadata": {},
   "source": [
    "## а"
   ]
  },
  {
   "cell_type": "code",
   "execution_count": 135,
   "metadata": {},
   "outputs": [],
   "source": [
    "degrees = [5, 8, 6, 12, 14, 18, 11, 6, 13, 7]\n",
    "n = 100"
   ]
  },
  {
   "cell_type": "code",
   "execution_count": 136,
   "metadata": {},
   "outputs": [],
   "source": [
    "sample_a = []\n",
    "for i in range(len(degrees)):\n",
    "    sample_a.extend([i for j in range(degrees[i])])\n",
    "    \n",
    "points_a = np.linspace(0, 9, 100)\n",
    "f_emp = [np.sum(sample_a<elem)/n for elem in points_a]\n",
    "f_acc = [x/10 for x in points_a]"
   ]
  },
  {
   "cell_type": "code",
   "execution_count": 138,
   "metadata": {},
   "outputs": [
    {
     "data": {
      "image/png": "[encoded data removed]",
      "text/plain": [
       "<Figure size 720x360 with 1 Axes>"
      ]
     },
     "metadata": {
      "needs_background": "light"
     },
     "output_type": "display_data"
    }
   ],
   "source": [
    "plt.figure(figsize=(10, 5))\n",
    "plt.title(\"Точная и эмперическая функции распределения\")\n",
    "plt.plot(points_a, f_acc)\n",
    "plt.plot(points_a, f_emp)\n",
    "plt.grid(True)\n",
    "plt.minorticks_on()\n",
    "plt.grid(which='minor')"
   ]
  },
  {
   "cell_type": "code",
   "execution_count": 140,
   "metadata": {},
   "outputs": [
    {
     "name": "stdout",
     "output_type": "stream",
     "text": [
      "Оценка дельта по критерию Колмогорова равняется 1.31\n"
     ]
    }
   ],
   "source": [
    "sub = 10*max(list(map(lambda x,y: abs(x-y), f_acc, f_emp)))\n",
    "print(f\"Оценка дельта по критерию Колмогорова равняется {round(sub, 2)}\")"
   ]
  },
  {
   "cell_type": "code",
   "execution_count": 142,
   "metadata": {},
   "outputs": [
    {
     "name": "stdout",
     "output_type": "stream",
     "text": [
      "p-value = 0.065 => нет оснований отвергать H0\n"
     ]
    }
   ],
   "source": [
    "s = 0\n",
    "for i in range(1, 5001):\n",
    "    s += -2*(-1)**(i)*np.exp(-2*i*i*sub*sub)\n",
    "print(f\"p-value = {round(s, 3)} => нет оснований отвергать H0\")"
   ]
  },
  {
   "cell_type": "markdown",
   "metadata": {},
   "source": [
    "## b"
   ]
  },
  {
   "cell_type": "markdown",
   "metadata": {},
   "source": [
    "### Хи-квадрат"
   ]
  },
  {
   "cell_type": "code",
   "execution_count": 143,
   "metadata": {},
   "outputs": [],
   "source": [
    "def gauss(x, sigma, a):\n",
    "    return 1/(sigma * np.sqrt(2 * np.pi)) * np.exp(-(x - a)**2 / (2 * sigma**2) )\n",
    "\n",
    "borders = [i/10 for i in range(5, 86, 10)]\n",
    "borders.insert(0, -np.inf)\n",
    "borders.append(np.inf)\n",
    "\n",
    "sigmas = np.linspace(1, 5, 100)\n",
    "aa = np.linspace(0, 7, 100)"
   ]
  },
  {
   "cell_type": "code",
   "execution_count": 144,
   "metadata": {
    "scrolled": true
   },
   "outputs": [],
   "source": [
    "#подбираем лучшие параметры нормального распределения\n",
    "l_max = 0\n",
    "p_best = tuple()\n",
    "for sigma in sigmas:\n",
    "    for a in aa:\n",
    "        p = []\n",
    "        for i in range(len(borders) - 1):\n",
    "            p.append(integrate.quad(gauss, borders[i], borders[i+1], args = (sigma, a))[0])\n",
    "        l = np.prod(list(map(lambda x, y: x**y, p, degrees)))\n",
    "        if l > l_max:\n",
    "            l_max = l\n",
    "            p_best = (sigma, a)"
   ]
  },
  {
   "cell_type": "code",
   "execution_count": 147,
   "metadata": {},
   "outputs": [
    {
     "name": "stdout",
     "output_type": "stream",
     "text": [
      "Лучшие параметры для нормального распределения: sigma = 2.7, a = 4.81\n"
     ]
    }
   ],
   "source": [
    "print(f\"Лучшие параметры для нормального распределения: sigma = {round(p_best[0], 2)}, a = {round(p_best[1], 2)}\")"
   ]
  },
  {
   "cell_type": "code",
   "execution_count": 148,
   "metadata": {},
   "outputs": [],
   "source": [
    "sigma_best = 2.7\n",
    "a_best = 4.8\n",
    "p_all = []\n",
    "for i in range(len(borders) - 1):\n",
    "    p_all.append(integrate.quad(gauss, borders[i], borders[i+1], args = (sigma_best, a_best))[0])"
   ]
  },
  {
   "cell_type": "code",
   "execution_count": 149,
   "metadata": {},
   "outputs": [],
   "source": [
    "deltas = []\n",
    "for i in range(10):\n",
    "    deltas.append((degrees[i] - n*p_all[i])**2/(n*p_all[i]))"
   ]
  },
  {
   "cell_type": "code",
   "execution_count": 150,
   "metadata": {},
   "outputs": [
    {
     "name": "stdout",
     "output_type": "stream",
     "text": [
      "Оценка дельта с помощью критерия хи-квадрат равняется 9.78\n"
     ]
    }
   ],
   "source": [
    "print(f\"Оценка дельта с помощью критерия хи-квадрат равняется {round(np.sum(deltas), 2)}\")"
   ]
  },
  {
   "cell_type": "markdown",
   "metadata": {},
   "source": [
    "### Колмогоров"
   ]
  },
  {
   "cell_type": "code",
   "execution_count": 151,
   "metadata": {},
   "outputs": [],
   "source": [
    "#бутстрап\n",
    "N = 50000\n",
    "sample_first = []\n",
    "for i in range(len(degrees)):\n",
    "    sample_first.extend([i for j in range(degrees[i])])\n",
    "    \n",
    "deltas_kolm = []\n",
    "for i in range(N):\n",
    "    sample = np.random.normal(a_best, sigma_best, n)\n",
    "    points = np.linspace(0, max(max(sample), 9), 100)\n",
    "    f1 = [np.sum(sample<elem)/n for elem in points]\n",
    "    f2 = [np.sum(sample_first<elem)/n for elem in points]\n",
    "    tmp = 10*max(list(map(lambda x,y: abs(x-y), f1, f2)))\n",
    "    deltas_kolm.append(tmp)\n",
    "\n",
    "deltas_var = np.sort(deltas_kolm)\n",
    "k = len(deltas_var[deltas_var<1.299999])"
   ]
  },
  {
   "cell_type": "code",
   "execution_count": 152,
   "metadata": {},
   "outputs": [
    {
     "name": "stdout",
     "output_type": "stream",
     "text": [
      "p_value = 0.53 => нет оснований отвергать H0\n"
     ]
    }
   ],
   "source": [
    "p_value = 1-((k-1)/N)\n",
    "print(f\"p_value = {round(p_value, 2)} => нет оснований отвергать H0\")"
   ]
  },
  {
   "cell_type": "markdown",
   "metadata": {},
   "source": [
    "## c"
   ]
  },
  {
   "cell_type": "code",
   "execution_count": 154,
   "metadata": {},
   "outputs": [],
   "source": [
    "a_c = np.mean(sample_a)\n",
    "sigma_c = np.std(sample_a)"
   ]
  },
  {
   "cell_type": "code",
   "execution_count": 155,
   "metadata": {},
   "outputs": [],
   "source": [
    "deltas_omm = []\n",
    "values = [i for i in range(10)]\n",
    "N = 50000\n",
    "for i in range(N):\n",
    "    sample = np.random.normal(a_c, sigma_c, n)\n",
    "    a_tmp = np.mean(sample)\n",
    "    sigma_tmp = np.std(sample)\n",
    "    p_c = []\n",
    "    for i in range(len(borders) - 1):\n",
    "        p_c.append(integrate.quad(gauss, borders[i], borders[i+1], args = (sigma_tmp, a_tmp))[0])\n",
    "    \n",
    "    num_in_intervals = [len(sample[(sample >= borders[i]) & (sample <= borders[i+1])]) for i in range(len(borders)-1)]\n",
    "    deltas_omm.append(sum(((num_in_intervals[i] - n*p_c[i])**2)/(n*(p_c[i]+0.00001)) for i in range(len(p_c))))"
   ]
  },
  {
   "cell_type": "code",
   "execution_count": 158,
   "metadata": {},
   "outputs": [],
   "source": [
    "deltas_var_omm = np.sort(deltas_omm)\n",
    "k_omm = len(deltas_var_omm[deltas_var_omm<9.79999])"
   ]
  },
  {
   "cell_type": "code",
   "execution_count": 162,
   "metadata": {},
   "outputs": [
    {
     "name": "stdout",
     "output_type": "stream",
     "text": [
      "p_value = 0.21 => нет оснований отвергать H0\n"
     ]
    }
   ],
   "source": [
    "p_value_omm = 1-((k_omm-1)/N)\n",
    "print(f\"p_value = {round(p_value_omm, 2)} => нет оснований отвергать H0\")"
   ]
  },
  {
   "cell_type": "code",
   "execution_count": 163,
   "metadata": {},
   "outputs": [],
   "source": [
    "from scipy.stats import chi2\n",
    "from scipy.special import gammainc, gamma"
   ]
  },
  {
   "cell_type": "code",
   "execution_count": 167,
   "metadata": {},
   "outputs": [],
   "source": [
    "def cdf_chi2(x, k):\n",
    "    return 3*gammainc(k/2, x/2)/gamma(k/2)\n",
    "\n",
    "X = np.linspace(0, 30, 100)\n",
    "arr7 = []\n",
    "arr9 = []\n",
    "for x in X:\n",
    "    arr7.append(integrate.quad(chi2.pdf, 0, x, args=7)[0])\n",
    "    arr9.append(integrate.quad(chi2.pdf, 0, x, args=9)[0])\n",
    "    \n",
    "fun = [len(deltas_var_omm[deltas_var_omm<x])/N for x in X]"
   ]
  },
  {
   "cell_type": "code",
   "execution_count": 168,
   "metadata": {
    "scrolled": true
   },
   "outputs": [
    {
     "data": {
      "text/plain": [
       "<matplotlib.legend.Legend at 0x194d8c80c18>"
      ]
     },
     "execution_count": 168,
     "metadata": {},
     "output_type": "execute_result"
    },
    {
     "data": {
      "image/png": "[encoded data removed]",
      "text/plain": [
       "<Figure size 720x360 with 1 Axes>"
      ]
     },
     "metadata": {
      "needs_background": "light"
     },
     "output_type": "display_data"
    }
   ],
   "source": [
    "plt.figure(figsize=(10, 5))\n",
    "plt.title(\"Сравнение с хи-квадрат(7) и хи-квадрат(9)\")\n",
    "plt.plot(X, arr7, label=\"хи-квадрат(7)\")\n",
    "plt.plot(X, arr9, label=\"хи-квадрат(9)\")\n",
    "plt.plot(X, fun, label=\"найденное распределение\")\n",
    "plt.grid(True)\n",
    "plt.minorticks_on()\n",
    "plt.grid(which='minor')\n",
    "plt.legend()"
   ]
  }
 ],
 "metadata": {
  "kernelspec": {
   "display_name": "Python 3",
   "language": "python",
   "name": "python3"
  },
  "language_info": {
   "codemirror_mode": {
    "name": "ipython",
    "version": 3
   },
   "file_extension": ".py",
   "mimetype": "text/x-python",
   "name": "python",
   "nbconvert_exporter": "python",
   "pygments_lexer": "ipython3",
   "version": "3.7.3"
  }
 },
 "nbformat": 4,
 "nbformat_minor": 2
}
