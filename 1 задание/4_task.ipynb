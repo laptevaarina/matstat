{
 "cells": [
  {
   "cell_type": "code",
   "execution_count": 9,
   "metadata": {},
   "outputs": [],
   "source": [
    "import numpy as np\n",
    "import matplotlib.pyplot as plt\n",
    "import random"
   ]
  },
  {
   "cell_type": "code",
   "execution_count": 3,
   "metadata": {},
   "outputs": [],
   "source": [
    "theta = 121\n",
    "n = 100\n",
    "\n",
    "sample = np.random.uniform(theta, theta*2, n)"
   ]
  },
  {
   "cell_type": "markdown",
   "metadata": {},
   "source": [
    "## ОММ доверительный интервал"
   ]
  },
  {
   "cell_type": "code",
   "execution_count": 6,
   "metadata": {},
   "outputs": [
    {
     "name": "stdout",
     "output_type": "stream",
     "text": [
      "Параметр (theta = 121) принадлежит [115.09; 123.29]\n"
     ]
    }
   ],
   "source": [
    "alpha1 = np.mean(sample)\n",
    "alpha2 = np.mean(sample**2)\n",
    "theta_est = 2/3*alpha1\n",
    "sigma = (4/9*(alpha2 - alpha1*alpha1))**0.5\n",
    "omm_b = -1*(-1.96/ n**0.5  * sigma - theta_est)\n",
    "omm_a = -1*(1.96/ n**0.5  * sigma - theta_est)\n",
    "\n",
    "print(f'Параметр (theta = {theta}) принадлежит [{np.round(omm_a, 2)}; {np.round(omm_b, 2)}]')"
   ]
  },
  {
   "cell_type": "markdown",
   "metadata": {},
   "source": [
    "## Точный доверительный интервал"
   ]
  },
  {
   "cell_type": "code",
   "execution_count": 7,
   "metadata": {},
   "outputs": [
    {
     "name": "stdout",
     "output_type": "stream",
     "text": [
      "Параметр (theta = 121) принадлежит [119.84; 123.4]\n"
     ]
    }
   ],
   "source": [
    "acc_b = np.max(sample)/(2*0.971)\n",
    "acc_a = np.max(sample)/(2*0.99987)\n",
    "\n",
    "print(f'Параметр (theta = {theta}) принадлежит [{np.round(acc_a, 2)}; {np.round(acc_b, 2)}]')"
   ]
  },
  {
   "cell_type": "markdown",
   "metadata": {},
   "source": [
    "## Бутстраповский доверительный интервал (g)"
   ]
  },
  {
   "cell_type": "code",
   "execution_count": 11,
   "metadata": {},
   "outputs": [],
   "source": [
    "N = 1000\n",
    "n = len(sample)\n",
    "\n",
    "sample_bs = sample.copy()\n",
    "sample_bs = np.repeat(sample_bs, 20)\n",
    "\n",
    "deltas = []\n",
    "for i in range(N):\n",
    "    random.shuffle(sample_bs)\n",
    "    deltas.append(np.mean(sample_bs[:n])*2/3 - theta_est)"
   ]
  },
  {
   "cell_type": "code",
   "execution_count": 12,
   "metadata": {},
   "outputs": [
    {
     "name": "stdout",
     "output_type": "stream",
     "text": [
      "Параметр (theta = 121) принадлежит [115.22; 123.19]\n"
     ]
    }
   ],
   "source": [
    "deltas.sort()\n",
    "delta_025 = deltas[int(0.025*len(deltas))]\n",
    "delta_975 = deltas[int(0.975*len(deltas))]\n",
    "\n",
    "bs_b = -1*(delta_025-theta_est)\n",
    "bs_a = -1*(delta_975-theta_est)\n",
    "\n",
    "print(f'Параметр (theta = {theta}) принадлежит [{np.round(bs_a, 2)}; {np.round(bs_b, 2)}]')"
   ]
  },
  {
   "cell_type": "markdown",
   "metadata": {},
   "source": [
    "## Сравнение интервалов (h)"
   ]
  },
  {
   "cell_type": "code",
   "execution_count": 18,
   "metadata": {},
   "outputs": [
    {
     "data": {
      "text/plain": [
       "<matplotlib.legend.Legend at 0x24679dd0f98>"
      ]
     },
     "execution_count": 18,
     "metadata": {},
     "output_type": "execute_result"
    },
    {
     "data": {
      "image/png": "[encoded data removed]",
      "text/plain": [
       "<Figure size 720x360 with 1 Axes>"
      ]
     },
     "metadata": {
      "needs_background": "light"
     },
     "output_type": "display_data"
    }
   ],
   "source": [
    "plt.figure(figsize=(10, 5))\n",
    "plt.plot([bs_a, bs_b], [1,1], label = 'бутстрап')\n",
    "plt.plot([acc_a, acc_b], [0,0], label = 'точный')\n",
    "plt.plot([omm_a, omm_b], [2,2], label = 'омм')\n",
    "plt.plot([theta, theta], [0, 2], label = 'theta')\n",
    "plt.grid(True)\n",
    "plt.minorticks_on()\n",
    "plt.grid(which='minor')\n",
    "plt.legend()"
   ]
  },
  {
   "cell_type": "code",
   "execution_count": null,
   "metadata": {},
   "outputs": [],
   "source": []
  }
 ],
 "metadata": {
  "kernelspec": {
   "display_name": "Python 3",
   "language": "python",
   "name": "python3"
  },
  "language_info": {
   "codemirror_mode": {
    "name": "ipython",
    "version": 3
   },
   "file_extension": ".py",
   "mimetype": "text/x-python",
   "name": "python",
   "nbconvert_exporter": "python",
   "pygments_lexer": "ipython3",
   "version": "3.7.3"
  }
 },
 "nbformat": 4,
 "nbformat_minor": 2
}
